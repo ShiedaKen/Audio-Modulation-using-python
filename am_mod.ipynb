{
 "cells": [
  {
   "cell_type": "code",
   "execution_count": 1,
   "id": "182d5c66",
   "metadata": {},
   "outputs": [],
   "source": [
    "import numpy as np\n",
    "from scipy.fft import fft, fftfreq\n",
    "from scipy.io import wavfile\n",
    "import matplotlib.pyplot as plt\n",
    "import sys\n",
    "np.set_printoptions(threshold=sys.maxsize)"
   ]
  },
  {
   "cell_type": "code",
   "execution_count": 2,
   "id": "7f5d59fb",
   "metadata": {},
   "outputs": [],
   "source": [
    "sample_rate, data = wavfile.read(\"test1.wav\")"
   ]
  },
  {
   "cell_type": "code",
   "execution_count": 3,
   "id": "5f8ad7dd",
   "metadata": {
    "scrolled": true
   },
   "outputs": [
    {
     "data": {
      "image/png": "[encoded data removed]",
      "text/plain": [
       "<Figure size 432x288 with 1 Axes>"
      ]
     },
     "metadata": {
      "needs_background": "light"
     },
     "output_type": "display_data"
    }
   ],
   "source": [
    "def dft(data, sample_rate):\n",
    "    fourier = abs(fft(data))\n",
    "    timestep = 1/float(sample_rate)\n",
    "    freq = fftfreq(len(fourier), timestep)\n",
    "    plt.plot(freq[range(len(fourier)//2)], fourier[range(len(fourier)//2)])\n",
    "\n",
    "# fourier = abs(fft(data))\n",
    "# timestep = 1/float(sample_rate)\n",
    "# freq = fftfreq(len(fourier), timestep)\n",
    "# plt.plot(freq[range(len(fourier)//2)], fourier[range(len(fourier)//2)])\n",
    "# plt.show()\n",
    "\n",
    "dft(data, sample_rate)"
   ]
  },
  {
   "cell_type": "code",
   "execution_count": 4,
   "id": "fe3a5c76",
   "metadata": {},
   "outputs": [
    {
     "data": {
      "image/png": "[encoded data removed]",
      "text/plain": [
       "<Figure size 432x288 with 1 Axes>"
      ]
     },
     "metadata": {
      "needs_background": "light"
     },
     "output_type": "display_data"
    }
   ],
   "source": [
    "carrier_hz = 3000.0\n",
    "signal_amsc = np.zeros_like(data, dtype=float)\n",
    "signal_am = np.zeros_like(data, dtype=float)\n",
    "carrier_signal = np.zeros_like(data, dtype=float)\n",
    "time = np.zeros_like(data, dtype=float)\n",
    "for i in range(len(data)):\n",
    "    base = data[i]/32768.0\n",
    "    carrier_sample = np.cos(carrier_hz * (i/sample_rate) * 2 * np.pi)\n",
    "    signal_am[i] = signal_amsc[i] = base * carrier_sample\n",
    "    signal_am[i] += carrier_sample\n",
    "    signal_am[i] /= 2\n",
    "    signal_amsc[i] *= 32768.0\n",
    "    signal_am[i] *= 32768.0\n",
    "    carrier_signal[i] = carrier_sample * 32768.0\n",
    "    time[i] = i/sample_rate\n",
    "wavfile.write(\"amsc_test.wav\", sample_rate, signal_amsc.astype(np.int16))\n",
    "wavfile.write(\"carrier_test.wav\", sample_rate, carrier_signal.astype(np.int16))\n",
    "wavfile.write(\"am_test.wav\", sample_rate, signal_am.astype(np.int16))\n",
    "\n",
    "dft(signal_amsc, sample_rate)"
   ]
  },
  {
   "cell_type": "code",
   "execution_count": 5,
   "id": "81920289",
   "metadata": {},
   "outputs": [
    {
     "data": {
      "image/png": "[encoded data removed]",
      "text/plain": [
       "<Figure size 432x288 with 1 Axes>"
      ]
     },
     "metadata": {
      "needs_background": "light"
     },
     "output_type": "display_data"
    }
   ],
   "source": [
    "# amsc demodulation\n",
    "\n",
    "signal_amsc_demod = np.zeros_like(signal_amsc, dtype=float)\n",
    "for i in range(len(signal_amsc)):\n",
    "    signal_amsc_demod[i] = signal_amsc[i]\n",
    "    carrier_sample = np.cos(carrier_hz * (i/44100) * 2 * np.pi)\n",
    "    signal_amsc_demod[i] *= carrier_sample\n",
    "wavfile.write(\"amsc_demod_test.wav\", sample_rate, signal_amsc_demod.astype(np.int16))\n",
    "dft(signal_amsc_demod, sample_rate)"
   ]
  },
  {
   "cell_type": "code",
   "execution_count": 6,
   "id": "2561e07b",
   "metadata": {},
   "outputs": [],
   "source": [
    "# am demodulation\n",
    "signal_am_demod = np.zeros_like(signal_am, dtype=float)\n",
    "for i in range(len(signal_am)):\n",
    "    signal_am_demod[i] = abs(signal_am[i])\n",
    "wavfile.write(\"am_test_demod.wav\", sample_rate, signal_am_demod.astype(np.int16))"
   ]
  },
  {
   "cell_type": "code",
   "execution_count": 12,
   "id": "3390c750",
   "metadata": {},
   "outputs": [],
   "source": [
    "# fm modulation\n",
    "fm_carrier_hz = 10000\n",
    "max_deviation_hz = 1000\n",
    "phase = 0\n",
    "signal_fm = np.zeros_like(data, dtype=float)\n",
    "for n in range(len(data)):\n",
    "    phase += (data[n]/32768.0) * np.pi * max_deviation_hz / sample_rate\n",
    "    phase %= 2 * np.pi\n",
    "    # quadrature i, q\n",
    "    i = np.cos(phase)\n",
    "    q = np.sin(phase)\n",
    "    \n",
    "    carrier = 2 * np.pi * fm_carrier_hz * (n/sample_rate)\n",
    "    output = i * np.cos(carrier) - q * np.sin(carrier)\n",
    "    signal_fm[n] = output * 32768.0\n",
    "wavfile.write(\"fm_test.wav\", sample_rate, signal_fm.astype(np.int16))"
   ]
  },
  {
   "cell_type": "code",
   "execution_count": null,
   "id": "c809609d",
   "metadata": {},
   "outputs": [],
   "source": [
    "# fm demodulation\n",
    "import random\n",
    "signal_fm_demod = np.zeros_like(data, dtype=float)\n",
    "initial_carrier_phase = random.randon * 2 * np.pi\n",
    "prev_angle = 0.0\n"
   ]
  }
 ],
 "metadata": {
  "kernelspec": {
   "display_name": "Python 3 (ipykernel)",
   "language": "python",
   "name": "python3"
  },
  "language_info": {
   "codemirror_mode": {
    "name": "ipython",
    "version": 3
   },
   "file_extension": ".py",
   "mimetype": "text/x-python",
   "name": "python",
   "nbconvert_exporter": "python",
   "pygments_lexer": "ipython3",
   "version": "3.9.6"
  }
 },
 "nbformat": 4,
 "nbformat_minor": 5
}
